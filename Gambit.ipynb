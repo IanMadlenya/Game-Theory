{
 "cells": [
  {
   "cell_type": "markdown",
   "metadata": {},
   "source": [
    "#What is Gambit ?\n",
    "[Gambit](http://www.gambit-project.org/)とは戦略型ゲームや展開型ゲームに関する分析を手助けしてくれるゲーム理論分析ライブラリーです。GUIにも優れており、コマンドラインを使わずに直感的にもゲーム理論分析が出来るという特徴も持ちます。  \n",
    "そして僕ら**Pythonista**としてはPythonのライブラリーとして使用する事が出来るということが最も大きなメリットとなります。Pythonのゲーム理論分析ライブラリは他にも少しだけ存在するようですが、おそらくこのGambitが一番整っていると思われます。  \n",
    "また、GambitのライセンスはGNU General Public Licenseのもとリリースされています。\n",
    "#How to install ?\n",
    "①[Downloadページ](http://sourceforge.net/projects/gambit/files/)から最新版のgambitの.tar.gzファイルをダウンロードして展開する。  \n",
    "  \n",
    "②ターミナルで展開したフォルダをディレクトリに変更し、\n",
    "```\n",
    "./configure\n",
    "make\n",
    "sudo make install\n",
    "```\n",
    "を入力する。\n",
    "  \n",
    "③  その後、\n",
    "```\n",
    "cd src/python\n",
    "python setup.py build\n",
    "sudo python setup.py install\n",
    "```\n",
    "を入力するとインストール完了。  \n",
    "  \n",
    "④用意されているテストを試してみる。\n",
    "```\n",
    "cd src/python/gambit/tests\n",
    "nosetests\n",
    "```\n",
    "  \n",
    "なお、詳しい説明については[Gambitホームページ](http://gambit.sourceforge.net/gambit14/build.html#build-python)(英語)に書かれておりました。  \n",
    "#Let's use Gambit !\n",
    "Gambitの[チュートリアル](http://gambit.sourceforge.net/gambit14/pyapi.html)に沿って、実際に動かしてみる。"
   ]
  },
  {
   "cell_type": "code",
   "execution_count": 1,
   "metadata": {
    "collapsed": true
   },
   "outputs": [],
   "source": [
    "import gambit"
   ]
  },
  {
   "cell_type": "markdown",
   "metadata": {},
   "source": [
    "##展開型ゲーム(extensive game)\n",
    "###Game.new_tree()\n",
    "Game.new_tree()で新しくゲームを生成する。このときのプレイヤー人数は0人。"
   ]
  },
  {
   "cell_type": "code",
   "execution_count": 2,
   "metadata": {
    "collapsed": true
   },
   "outputs": [],
   "source": [
    "g = gambit.Game.new_tree()"
   ]
  },
  {
   "cell_type": "code",
   "execution_count": 3,
   "metadata": {
    "collapsed": false
   },
   "outputs": [
    {
     "data": {
      "text/plain": [
       "0"
      ]
     },
     "execution_count": 3,
     "metadata": {},
     "output_type": "execute_result"
    }
   ],
   "source": [
    "len(g.players)"
   ]
  },
  {
   "cell_type": "markdown",
   "metadata": {},
   "source": [
    "###title\n",
    "title属性によりゲームタイトルを入力出来る。"
   ]
  },
  {
   "cell_type": "code",
   "execution_count": 4,
   "metadata": {
    "collapsed": false
   },
   "outputs": [
    {
     "data": {
      "text/plain": [
       "\"<Game ''>\""
      ]
     },
     "execution_count": 4,
     "metadata": {},
     "output_type": "execute_result"
    }
   ],
   "source": [
    "str(g)"
   ]
  },
  {
   "cell_type": "code",
   "execution_count": 5,
   "metadata": {
    "collapsed": false
   },
   "outputs": [
    {
     "data": {
      "text/plain": [
       "'A simple poker example'"
      ]
     },
     "execution_count": 5,
     "metadata": {},
     "output_type": "execute_result"
    }
   ],
   "source": [
    "g.title = \"A simple poker example\"\n",
    "g.title"
   ]
  },
  {
   "cell_type": "code",
   "execution_count": 6,
   "metadata": {
    "collapsed": false
   },
   "outputs": [
    {
     "data": {
      "text/plain": [
       "\"<Game 'A simple poker example'>\""
      ]
     },
     "execution_count": 6,
     "metadata": {},
     "output_type": "execute_result"
    }
   ],
   "source": [
    "str(g)"
   ]
  },
  {
   "cell_type": "markdown",
   "metadata": {},
   "source": [
    "###players\n",
    "players属性によりプレイヤーの設定が出来ます。len()を使って人数を確認したり、add()でプレイヤーを増やすことが出来ます。"
   ]
  },
  {
   "cell_type": "code",
   "execution_count": 7,
   "metadata": {
    "collapsed": true
   },
   "outputs": [],
   "source": [
    "p = g.players.add(\"Alice\")"
   ]
  },
  {
   "cell_type": "code",
   "execution_count": 8,
   "metadata": {
    "collapsed": false
   },
   "outputs": [
    {
     "data": {
      "text/plain": [
       "<Player [0] 'Alice' in game 'A simple poker example'>"
      ]
     },
     "execution_count": 8,
     "metadata": {},
     "output_type": "execute_result"
    }
   ],
   "source": [
    "p"
   ]
  },
  {
   "cell_type": "markdown",
   "metadata": {},
   "source": [
    "それぞれのplayersはlabel属性を持ち、プレイヤーの名前を確認することが出来ます。"
   ]
  },
  {
   "cell_type": "code",
   "execution_count": 9,
   "metadata": {
    "collapsed": false
   },
   "outputs": [
    {
     "data": {
      "text/plain": [
       "'Alice'"
      ]
     },
     "execution_count": 9,
     "metadata": {},
     "output_type": "execute_result"
    }
   ],
   "source": [
    "p.label"
   ]
  },
  {
   "cell_type": "code",
   "execution_count": 10,
   "metadata": {
    "collapsed": false
   },
   "outputs": [
    {
     "data": {
      "text/plain": [
       "1"
      ]
     },
     "execution_count": 10,
     "metadata": {},
     "output_type": "execute_result"
    }
   ],
   "source": [
    "len(g.players)"
   ]
  },
  {
   "cell_type": "markdown",
   "metadata": {},
   "source": [
    "Game.playersはpythonのリストのような扱い方もできます。"
   ]
  },
  {
   "cell_type": "code",
   "execution_count": 11,
   "metadata": {
    "collapsed": false
   },
   "outputs": [
    {
     "data": {
      "text/plain": [
       "<Player [0] 'Alice' in game 'A simple poker example'>"
      ]
     },
     "execution_count": 11,
     "metadata": {},
     "output_type": "execute_result"
    }
   ],
   "source": [
    "g.players[0]"
   ]
  },
  {
   "cell_type": "code",
   "execution_count": 12,
   "metadata": {
    "collapsed": false
   },
   "outputs": [
    {
     "data": {
      "text/plain": [
       "[<Player [0] 'Alice' in game 'A simple poker example'>]"
      ]
     },
     "execution_count": 12,
     "metadata": {},
     "output_type": "execute_result"
    }
   ],
   "source": [
    "g.players"
   ]
  },
  {
   "cell_type": "markdown",
   "metadata": {},
   "source": [
    "##戦略型ゲーム(strategic game)\n",
    "ここでは2x2の囚人のジレンマを例として取り扱う。\n",
    "###Game.new_table()\n",
    "新しいゲームを生成する。それぞれのプレイヤーにおける戦略の数の組を整数で構成されるリストとして引く。"
   ]
  },
  {
   "cell_type": "code",
   "execution_count": 13,
   "metadata": {
    "collapsed": false
   },
   "outputs": [
    {
     "data": {
      "text/plain": [
       "NFG 1 R \"A prisoner's dilemma game\" { \"Alphonse\" \"Gaston\" }\n",
       "\n",
       "{ { \"1\" \"2\" }\n",
       "{ \"1\" \"2\" }\n",
       "}\n",
       "\"\"\n",
       "\n",
       "{\n",
       "{ \"\" 0, 0 }\n",
       "{ \"\" 0, 0 }\n",
       "{ \"\" 0, 0 }\n",
       "{ \"\" 0, 0 }\n",
       "}\n",
       "1 2 3 4 "
      ]
     },
     "execution_count": 13,
     "metadata": {},
     "output_type": "execute_result"
    }
   ],
   "source": [
    "g = gambit.Game.new_table([2,2])\n",
    "g.title = \"A prisoner's dilemma game\"\n",
    "g.players[0].label = \"Alphonse\"\n",
    "g.players[1].label = \"Gaston\"\n",
    "g"
   ]
  },
  {
   "cell_type": "markdown",
   "metadata": {},
   "source": [
    "###strategies\n",
    "playersが持つstrategiesはプレイヤーが持つ全ての戦略について並べてくれる。"
   ]
  },
  {
   "cell_type": "code",
   "execution_count": 14,
   "metadata": {
    "collapsed": false
   },
   "outputs": [
    {
     "data": {
      "text/plain": [
       "[<Strategy [0] '1' for player 'Alphonse' in game 'A prisoner's dilemma game'>, <Strategy [1] '2' for player 'Alphonse' in game 'A prisoner's dilemma game'>]"
      ]
     },
     "execution_count": 14,
     "metadata": {},
     "output_type": "execute_result"
    }
   ],
   "source": [
    "g.players[0].strategies"
   ]
  },
  {
   "cell_type": "code",
   "execution_count": 15,
   "metadata": {
    "collapsed": false
   },
   "outputs": [
    {
     "data": {
      "text/plain": [
       "2"
      ]
     },
     "execution_count": 15,
     "metadata": {},
     "output_type": "execute_result"
    }
   ],
   "source": [
    "len(g.players[0].strategies)"
   ]
  },
  {
   "cell_type": "code",
   "execution_count": 16,
   "metadata": {
    "collapsed": false
   },
   "outputs": [],
   "source": [
    "g.players[0].strategies[0].label = \"Cooperate\"\n",
    "g.players[0].strategies[1].label = \"Defect\""
   ]
  },
  {
   "cell_type": "code",
   "execution_count": 17,
   "metadata": {
    "collapsed": false
   },
   "outputs": [
    {
     "data": {
      "text/plain": [
       "[<Strategy [0] 'Cooperate' for player 'Alphonse' in game 'A prisoner's dilemma game'>, <Strategy [1] 'Defect' for player 'Alphonse' in game 'A prisoner's dilemma game'>]"
      ]
     },
     "execution_count": 17,
     "metadata": {},
     "output_type": "execute_result"
    }
   ],
   "source": [
    "g.players[0].strategies"
   ]
  },
  {
   "cell_type": "markdown",
   "metadata": {},
   "source": [
    "利得表はarrayのような形でアクセスできます。  \n",
    "g[i, j]は最初のプレイヤーがi番目の戦略を、次のプレイヤーがj番目の戦略を取った時の利得となる。"
   ]
  },
  {
   "cell_type": "code",
   "execution_count": 18,
   "metadata": {
    "collapsed": true
   },
   "outputs": [],
   "source": [
    "g[0,0][0] = 8\n",
    "g[0,0][1] = 8\n",
    "g[0,1][0] = 2\n",
    "g[0,1][1] = 10\n",
    "g[1,0][0] = 10\n",
    "g[1,1][1] = 2\n",
    "g[1,0][1] = 2\n",
    "g[1,1][0] = 5\n",
    "g[1,1][1] = 5"
   ]
  },
  {
   "cell_type": "code",
   "execution_count": 19,
   "metadata": {
    "collapsed": false
   },
   "outputs": [
    {
     "data": {
      "text/plain": [
       "NFG 1 R \"A prisoner's dilemma game\" { \"Alphonse\" \"Gaston\" }\n",
       "\n",
       "{ { \"Cooperate\" \"Defect\" }\n",
       "{ \"1\" \"2\" }\n",
       "}\n",
       "\"\"\n",
       "\n",
       "{\n",
       "{ \"\" 8, 8 }\n",
       "{ \"\" 10, 2 }\n",
       "{ \"\" 2, 10 }\n",
       "{ \"\" 5, 5 }\n",
       "}\n",
       "1 2 3 4 "
      ]
     },
     "execution_count": 19,
     "metadata": {},
     "output_type": "execute_result"
    }
   ],
   "source": [
    "g"
   ]
  },
  {
   "cell_type": "markdown",
   "metadata": {},
   "source": [
    "##ゲームの読み込み(Reading a game from a file)\n",
    "###Game.read_game()\n",
    "Gambitにもとから入っているサンプルファイルをGame.read_game()を使って読み込むことが出来る。  \n",
    "ためしに[mixed_strategy.nfg](https://github.com/ogaway/gambit/blob/master/src/python/gambit/tests/test_games/mixed_strategy.nfg)を読み込んでみる。"
   ]
  },
  {
   "cell_type": "code",
   "execution_count": 20,
   "metadata": {
    "collapsed": false
   },
   "outputs": [
    {
     "data": {
      "text/plain": [
       "NFG 1 R \"\" { \"Player 1\" \"Player 2\" }\n",
       "\n",
       "{ { \"1\" \"2\" \"3\" }\n",
       "{ \"1\" \"2\" }\n",
       "}\n",
       "\"\"\n",
       "\n",
       "{\n",
       "{ \"\" 1, 1 }\n",
       "{ \"\" 0, 2 }\n",
       "{ \"\" 0, 2 }\n",
       "{ \"\" 1, 1 }\n",
       "{ \"\" 0, 3 }\n",
       "{ \"\" 2, 0 }\n",
       "}\n",
       "1 2 3 4 5 6 "
      ]
     },
     "execution_count": 20,
     "metadata": {},
     "output_type": "execute_result"
    }
   ],
   "source": [
    "g = gambit.Game.read_game(\"test_games/mixed_strategy.nfg\")\n",
    "g"
   ]
  },
  {
   "cell_type": "markdown",
   "metadata": {},
   "source": [
    "###contingencies\n",
    "contingencies属性は純粋戦略のすべての組となっている。"
   ]
  },
  {
   "cell_type": "code",
   "execution_count": 21,
   "metadata": {
    "collapsed": false
   },
   "outputs": [
    {
     "data": {
      "text/plain": [
       "[[0, 0], [0, 1], [1, 0], [1, 1], [2, 0], [2, 1]]"
      ]
     },
     "execution_count": 21,
     "metadata": {},
     "output_type": "execute_result"
    }
   ],
   "source": [
    "list(g.contingencies)"
   ]
  },
  {
   "cell_type": "code",
   "execution_count": 22,
   "metadata": {
    "collapsed": false
   },
   "outputs": [
    {
     "name": "stdout",
     "output_type": "stream",
     "text": [
      "[0, 0] 1 1\n",
      "[0, 1] 1 1\n",
      "[1, 0] 0 2\n",
      "[1, 1] 0 3\n",
      "[2, 0] 0 2\n",
      "[2, 1] 2 0\n"
     ]
    }
   ],
   "source": [
    "for profile in g.contingencies:\n",
    "    print profile, g[profile][0], g[profile][1]"
   ]
  },
  {
   "cell_type": "markdown",
   "metadata": {},
   "source": [
    "##混合戦略と行動戦略(Mixed strategy and behavior profiles)\n",
    "##混合戦略(Mixed strategy)\n",
    "###mixed_strategy_profile()\n",
    "mixed_strategy_profile()によって各プレイヤーの純戦略における確率分布を表すことが出来る。"
   ]
  },
  {
   "cell_type": "code",
   "execution_count": 23,
   "metadata": {
    "collapsed": true
   },
   "outputs": [],
   "source": [
    "p = g.mixed_strategy_profile()"
   ]
  },
  {
   "cell_type": "code",
   "execution_count": 24,
   "metadata": {
    "collapsed": false
   },
   "outputs": [
    {
     "data": {
      "text/plain": [
       "[0.3333333333333333, 0.3333333333333333, 0.3333333333333333, 0.5, 0.5]"
      ]
     },
     "execution_count": 24,
     "metadata": {},
     "output_type": "execute_result"
    }
   ],
   "source": [
    "list(p)"
   ]
  },
  {
   "cell_type": "code",
   "execution_count": 25,
   "metadata": {
    "collapsed": false
   },
   "outputs": [
    {
     "data": {
      "text/latex": [
       "[0.3333333333333333, 0.3333333333333333, 0.3333333333333333]"
      ],
      "text/plain": [
       "[0.3333333333333333, 0.3333333333333333, 0.3333333333333333]"
      ]
     },
     "execution_count": 25,
     "metadata": {},
     "output_type": "execute_result"
    }
   ],
   "source": [
    "p[g.players[0]]"
   ]
  },
  {
   "cell_type": "code",
   "execution_count": 26,
   "metadata": {
    "collapsed": false
   },
   "outputs": [
    {
     "data": {
      "text/plain": [
       "0.5"
      ]
     },
     "execution_count": 26,
     "metadata": {},
     "output_type": "execute_result"
    }
   ],
   "source": [
    "p[g.players[1].strategies[0]]"
   ]
  },
  {
   "cell_type": "markdown",
   "metadata": {},
   "source": [
    "###payoff()\n",
    "payoff()によってプレイヤーに対する期待利得を得ることが出来る。"
   ]
  },
  {
   "cell_type": "code",
   "execution_count": 27,
   "metadata": {
    "collapsed": false
   },
   "outputs": [
    {
     "data": {
      "text/plain": [
       "0.6666666666666666"
      ]
     },
     "execution_count": 27,
     "metadata": {},
     "output_type": "execute_result"
    }
   ],
   "source": [
    "p.payoff(g.players[0])"
   ]
  },
  {
   "cell_type": "markdown",
   "metadata": {},
   "source": [
    "###strategy_value()\n",
    "strategy_value()によってプレイヤーが与えられた戦略を行うときの期待利得を得る。"
   ]
  },
  {
   "cell_type": "code",
   "execution_count": 28,
   "metadata": {
    "collapsed": false
   },
   "outputs": [
    {
     "data": {
      "text/plain": [
       "1.0"
      ]
     },
     "execution_count": 28,
     "metadata": {},
     "output_type": "execute_result"
    }
   ],
   "source": [
    "p.strategy_value(g.players[0].strategies[2])"
   ]
  },
  {
   "cell_type": "markdown",
   "metadata": {},
   "source": [
    "##行動戦略(behavior strategy)\n",
    "行動戦略オブジェクトを使うためには、ゲームは展開型ゲームである必要がある。  \n",
    "おそらくtest_gamesの中で拡張子がnfgのものは戦略型、efgのものは展開型である。  \n",
    "ここでは、[sample_extensive_game.efg](https://github.com/ogaway/gambit/blob/master/src/python/gambit/tests/test_games/sample_extensive_game.efg)を読み込む。  \n",
    "p \"1\" 1 1 \"\" { \"1\" \"2\" } 0は、おそらくpoint\"1\"における情報集合1の1番さんの行動プロファイル[1, 2]という意味で、\n",
    "t \"\" 1 \"\" { 2, 3 }は、おそらくtop\"1\"における利得は[2, 3]という意味だと思われる。"
   ]
  },
  {
   "cell_type": "code",
   "execution_count": 29,
   "metadata": {
    "collapsed": false
   },
   "outputs": [
    {
     "data": {
      "text/plain": [
       "EFG 2 R \"Untitled Extensive Game\" { \"Player 1\" \"Player 2\" }\n",
       "\"\"\n",
       "\n",
       "p \"1\" 1 1 \"\" { \"1\" \"2\" } 0\n",
       "p \"2\" 2 1 \"\" { \"1\" \"2\" } 0\n",
       "t \"\" 1 \"\" { 2, 3 }\n",
       "t \"\" 1 \"\" { 2, 3 }\n",
       "p \"3\" 2 2 \"\" { \"1\" \"2\" } 0\n",
       "t \"\" 2 \"\" { 4, 5 }\n",
       "t \"\" 3 \"\" { 6, 7 }"
      ]
     },
     "execution_count": 29,
     "metadata": {},
     "output_type": "execute_result"
    }
   ],
   "source": [
    "g = gambit.Game.read_game(\"test_games/sample_extensive_game.efg\")\n",
    "g"
   ]
  },
  {
   "cell_type": "markdown",
   "metadata": {},
   "source": [
    "###mixed_behavior_profile()\n",
    "それぞれの情報集合(information set)における行動の確率分布を表す。  \n",
    "行動プロファイルの初期値はそれぞれの情報集合において一様分布で導かれる。"
   ]
  },
  {
   "cell_type": "code",
   "execution_count": 30,
   "metadata": {
    "collapsed": true
   },
   "outputs": [],
   "source": [
    "p = g.mixed_behavior_profile()"
   ]
  },
  {
   "cell_type": "code",
   "execution_count": 31,
   "metadata": {
    "collapsed": false
   },
   "outputs": [
    {
     "data": {
      "text/plain": [
       "[0.5, 0.5, 0.5, 0.5, 0.5, 0.5]"
      ]
     },
     "execution_count": 31,
     "metadata": {},
     "output_type": "execute_result"
    }
   ],
   "source": [
    "list(p)"
   ]
  },
  {
   "cell_type": "markdown",
   "metadata": {},
   "source": [
    "mixed_strategy_profile()のときと扱い方はほとんど変わらないが、infosetsが増えたところを注意して扱う必要がある。"
   ]
  },
  {
   "cell_type": "code",
   "execution_count": 32,
   "metadata": {
    "collapsed": false
   },
   "outputs": [
    {
     "data": {
      "text/latex": [
       "[[0.5, 0.5]]"
      ],
      "text/plain": [
       "[[0.5, 0.5]]"
      ]
     },
     "execution_count": 32,
     "metadata": {},
     "output_type": "execute_result"
    }
   ],
   "source": [
    "p[g.players[0]]"
   ]
  },
  {
   "cell_type": "code",
   "execution_count": 33,
   "metadata": {
    "collapsed": false
   },
   "outputs": [
    {
     "data": {
      "text/latex": [
       "[0.5, 0.5]"
      ],
      "text/plain": [
       "[0.5, 0.5]"
      ]
     },
     "execution_count": 33,
     "metadata": {},
     "output_type": "execute_result"
    }
   ],
   "source": [
    "p[g.players[0].infosets[0]]"
   ]
  },
  {
   "cell_type": "code",
   "execution_count": 34,
   "metadata": {
    "collapsed": false
   },
   "outputs": [
    {
     "data": {
      "text/plain": [
       "0.5"
      ]
     },
     "execution_count": 34,
     "metadata": {},
     "output_type": "execute_result"
    }
   ],
   "source": [
    "p[g.players[0].infosets[0].actions[0]]"
   ]
  },
  {
   "cell_type": "markdown",
   "metadata": {},
   "source": [
    "#ナッシュ均衡\n",
    "##戦略型ゲーム\n",
    "[mixed_strategy.nfg](https://github.com/ogaway/gambit/blob/master/src/python/gambit/tests/test_games/mixed_strategy.nfg)のゲームを例に扱う。  \n",
    "Player1は戦略0を確率1で行うが、Player2は戦略0を確率0.5以上で混合戦略をとる。"
   ]
  },
  {
   "cell_type": "code",
   "execution_count": 35,
   "metadata": {
    "collapsed": false
   },
   "outputs": [
    {
     "data": {
      "text/plain": [
       "NFG 1 R \"\" { \"Player 1\" \"Player 2\" }\n",
       "\n",
       "{ { \"1\" \"2\" \"3\" }\n",
       "{ \"1\" \"2\" }\n",
       "}\n",
       "\"\"\n",
       "\n",
       "{\n",
       "{ \"\" 1, 1 }\n",
       "{ \"\" 0, 2 }\n",
       "{ \"\" 0, 2 }\n",
       "{ \"\" 1, 1 }\n",
       "{ \"\" 0, 3 }\n",
       "{ \"\" 2, 0 }\n",
       "}\n",
       "1 2 3 4 5 6 "
      ]
     },
     "execution_count": 35,
     "metadata": {},
     "output_type": "execute_result"
    }
   ],
   "source": [
    "g = gambit.Game.read_game(\"test_games/mixed_strategy.nfg\")\n",
    "g"
   ]
  },
  {
   "cell_type": "markdown",
   "metadata": {},
   "source": [
    "###nash.ExternalEnumPureSolver()\n",
    "純戦略における解を返す。  "
   ]
  },
  {
   "cell_type": "code",
   "execution_count": 36,
   "metadata": {
    "collapsed": false
   },
   "outputs": [
    {
     "data": {
      "text/plain": [
       "[<NashProfile for '': [[Fraction(1, 1), Fraction(0, 1), Fraction(0, 1)], [Fraction(1, 1), Fraction(0, 1)]]>]"
      ]
     },
     "execution_count": 36,
     "metadata": {},
     "output_type": "execute_result"
    }
   ],
   "source": [
    "solver = gambit.nash.ExternalEnumPureSolver()\n",
    "solver.solve(g)"
   ]
  },
  {
   "cell_type": "markdown",
   "metadata": {},
   "source": [
    "###nash.ExternalEnumMixedSolver()\n",
    "混合戦略における解を返す。  \n",
    "この場合は解となる均衡点の組の端点である2つの均衡点を返している。"
   ]
  },
  {
   "cell_type": "code",
   "execution_count": 37,
   "metadata": {
    "collapsed": false
   },
   "outputs": [
    {
     "data": {
      "text/plain": [
       "[<NashProfile for '': [[1.0, 0.0, 0.0], [1.0, 0.0]]>,\n",
       " <NashProfile for '': [[1.0, 0.0, 0.0], [0.5, 0.5]]>]"
      ]
     },
     "execution_count": 37,
     "metadata": {},
     "output_type": "execute_result"
    }
   ],
   "source": [
    "solver = gambit.nash.ExternalEnumMixedSolver()\n",
    "solver.solve(g)"
   ]
  },
  {
   "cell_type": "code",
   "execution_count": 38,
   "metadata": {
    "collapsed": false
   },
   "outputs": [
    {
     "data": {
      "text/plain": [
       "[<NashProfile for '': [[0.9999999999788117, 0.0, 2.1188337212738607e-11], [0.500011410054953, 0.499988589945047]]>]"
      ]
     },
     "execution_count": 38,
     "metadata": {},
     "output_type": "execute_result"
    }
   ],
   "source": [
    "solver = gambit.nash.ExternalLogitSolver()\n",
    "solver.solve(g)"
   ]
  },
  {
   "cell_type": "markdown",
   "metadata": {},
   "source": [
    "##展開型ゲーム\n",
    "[sample_extensive_game.efg](https://github.com/ogaway/gambit/blob/master/src/python/gambit/tests/test_games/sample_extensive_game.efg)を例として扱う。"
   ]
  },
  {
   "cell_type": "code",
   "execution_count": 39,
   "metadata": {
    "collapsed": false
   },
   "outputs": [
    {
     "data": {
      "text/plain": [
       "EFG 2 R \"Untitled Extensive Game\" { \"Player 1\" \"Player 2\" }\n",
       "\"\"\n",
       "\n",
       "p \"1\" 1 1 \"\" { \"1\" \"2\" } 0\n",
       "p \"2\" 2 1 \"\" { \"1\" \"2\" } 0\n",
       "t \"\" 1 \"\" { 2, 3 }\n",
       "t \"\" 1 \"\" { 2, 3 }\n",
       "p \"3\" 2 2 \"\" { \"1\" \"2\" } 0\n",
       "t \"\" 2 \"\" { 4, 5 }\n",
       "t \"\" 3 \"\" { 6, 7 }"
      ]
     },
     "execution_count": 39,
     "metadata": {},
     "output_type": "execute_result"
    }
   ],
   "source": [
    "g = gambit.Game.read_game(\"test_games/sample_extensive_game.efg\")\n",
    "g"
   ]
  },
  {
   "cell_type": "code",
   "execution_count": 40,
   "metadata": {
    "collapsed": false
   },
   "outputs": [
    {
     "data": {
      "text/plain": [
       "[<NashProfile for 'Untitled Extensive Game': [[[0.0, 1.0]], [[0.0, 1.0], [0.0, 1.0]]]>]"
      ]
     },
     "execution_count": 40,
     "metadata": {},
     "output_type": "execute_result"
    }
   ],
   "source": [
    "solver = gambit.nash.ExternalLCPSolver()\n",
    "solver.solve(g)"
   ]
  },
  {
   "cell_type": "code",
   "execution_count": 41,
   "metadata": {
    "collapsed": false
   },
   "outputs": [
    {
     "data": {
      "text/plain": [
       "[<NashProfile for 'Untitled Extensive Game': [[[0.0, 1.0]], [[0.0, 1.0], [0.0, 1.0]]]>]"
      ]
     },
     "execution_count": 41,
     "metadata": {},
     "output_type": "execute_result"
    }
   ],
   "source": [
    "solver.solve(g, use_strategic=True)\n",
    "solver.solve(g)"
   ]
  }
 ],
 "metadata": {
  "kernelspec": {
   "display_name": "Python 2",
   "language": "python",
   "name": "python2"
  },
  "language_info": {
   "codemirror_mode": {
    "name": "ipython",
    "version": 2
   },
   "file_extension": ".py",
   "mimetype": "text/x-python",
   "name": "python",
   "nbconvert_exporter": "python",
   "pygments_lexer": "ipython2",
   "version": "2.7.10"
  }
 },
 "nbformat": 4,
 "nbformat_minor": 0
}
