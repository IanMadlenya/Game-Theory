{
 "metadata": {
  "name": "",
  "signature": "sha256:fb9514eaea023d8fef26ba0126d7c92df5a92835729591a23e3d9a2ebc7beb70"
 },
 "nbformat": 3,
 "nbformat_minor": 0,
 "worksheets": []
}