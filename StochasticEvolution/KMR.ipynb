{
 "cells": [
  {
   "cell_type": "markdown",
   "metadata": {},
   "source": [
    "#KMR の確率進化動学\n",
    "利得表から混合戦略ナッシュ均衡を求めて、pの値を算出する関数を設けました。  \n",
    "ナッシュ均衡を求めるために[Gambit](http://gambit.sourceforge.net/gambit14/index.html)を使っているのでインストールする必要があります。"
   ]
  },
  {
   "cell_type": "code",
   "execution_count": 1,
   "metadata": {
    "collapsed": false
   },
   "outputs": [],
   "source": [
    "%matplotlib inline\n",
    "import kmr\n",
    "import numpy as np"
   ]
  },
  {
   "cell_type": "markdown",
   "metadata": {},
   "source": [
    "##(1) coordination game\n",
    "###逐次改訂モデル\n"
   ]
  },
  {
   "cell_type": "code",
   "execution_count": 2,
   "metadata": {
    "collapsed": false
   },
   "outputs": [],
   "source": [
    "# 初期設定\n",
    "payoff = np.array([[[4, 4], [0, 3]],\n",
    "                                [[3, 0], [2, 2]]])\n",
    "N = 5\n",
    "epsilon = 0.1\n",
    "T=10000"
   ]
  },
  {
   "cell_type": "code",
   "execution_count": 3,
   "metadata": {
    "collapsed": false
   },
   "outputs": [
    {
     "data": {
      "text/plain": [
       "[<NashProfile for '': [[1.0, 0.0], [1.0, 0.0]]>,\n",
       " <NashProfile for '': [[0.6666666667, 0.3333333333], [0.6666666667, 0.3333333333]]>,\n",
       " <NashProfile for '': [[0.0, 1.0], [0.0, 1.0]]>]"
      ]
     },
     "execution_count": 3,
     "metadata": {},
     "output_type": "execute_result"
    }
   ],
   "source": [
    "# 混合戦略ナッシュ均衡算出\n",
    "p = kmr.compute_nash_equilibrium(payoff)\n",
    "p"
   ]
  },
  {
   "cell_type": "code",
   "execution_count": 4,
   "metadata": {
    "collapsed": false
   },
   "outputs": [
    {
     "data": {
      "text/plain": [
       "0.3333333333"
      ]
     },
     "execution_count": 4,
     "metadata": {},
     "output_type": "execute_result"
    }
   ],
   "source": [
    "p[1][1]"
   ]
  },
  {
   "cell_type": "code",
   "execution_count": 5,
   "metadata": {
    "collapsed": true
   },
   "outputs": [],
   "source": [
    "p = p[1][1]"
   ]
  },
  {
   "cell_type": "code",
   "execution_count": 6,
   "metadata": {
    "collapsed": false
   },
   "outputs": [],
   "source": [
    "# KMRクラス\n",
    "k = kmr.KMR(p, N, epsilon)\n",
    "k.simulate(T)"
   ]
  },
  {
   "cell_type": "code",
   "execution_count": 7,
   "metadata": {
    "collapsed": false
   },
   "outputs": [
    {
     "data": {
      "text/plain": [
       "array([[ 0.95,  0.05,  0.  ,  0.  ,  0.  ,  0.  ],\n",
       "       [ 0.19,  0.77,  0.04,  0.  ,  0.  ,  0.  ],\n",
       "       [ 0.  ,  0.38,  0.05,  0.57,  0.  ,  0.  ],\n",
       "       [ 0.  ,  0.  ,  0.03,  0.59,  0.38,  0.  ],\n",
       "       [ 0.  ,  0.  ,  0.  ,  0.04,  0.77,  0.19],\n",
       "       [ 0.  ,  0.  ,  0.  ,  0.  ,  0.05,  0.95]])"
      ]
     },
     "execution_count": 7,
     "metadata": {},
     "output_type": "execute_result"
    }
   ],
   "source": [
    "# 遷移行列\n",
    "k.P"
   ]
  },
  {
   "cell_type": "code",
   "execution_count": 8,
   "metadata": {
    "collapsed": false
   },
   "outputs": [
    {
     "data": {
      "image/png": "[encoded data removed]",
      "text/plain": [
       "<matplotlib.figure.Figure at 0x10c8f2850>"
      ]
     },
     "metadata": {},
     "output_type": "display_data"
    }
   ],
   "source": [
    "# 推移の一例\n",
    "k.plot_sample_path()"
   ]
  },
  {
   "cell_type": "code",
   "execution_count": 9,
   "metadata": {
    "collapsed": false
   },
   "outputs": [
    {
     "data": {
      "image/png": "[encoded data removed]",
      "text/plain": [
       "<matplotlib.figure.Figure at 0x1042ed690>"
      ]
     },
     "metadata": {},
     "output_type": "display_data"
    }
   ],
   "source": [
    "# 定常分布\n",
    "k.plot_stationary_distribution()"
   ]
  },
  {
   "cell_type": "code",
   "execution_count": 10,
   "metadata": {
    "collapsed": false
   },
   "outputs": [
    {
     "data": {
      "image/png": "[encoded data removed]",
      "text/plain": [
       "<matplotlib.figure.Figure at 0x10dfc1790>"
      ]
     },
     "metadata": {},
     "output_type": "display_data"
    }
   ],
   "source": [
    "#  頻度分布\n",
    "k.plot_empirical_distribution()"
   ]
  },
  {
   "cell_type": "markdown",
   "metadata": {},
   "source": [
    "##(2) Young game"
   ]
  },
  {
   "cell_type": "code",
   "execution_count": 11,
   "metadata": {
    "collapsed": true
   },
   "outputs": [],
   "source": [
    "# 初期設定\n",
    "payoff = np.array([[6, 0, 0],\n",
    "                                 [5, 7, 5],\n",
    "                                 [0, 5, 8]])\n",
    "N = 5\n",
    "epsilon = 0.2\n",
    "T=1000"
   ]
  },
  {
   "cell_type": "code",
   "execution_count": 12,
   "metadata": {
    "collapsed": false
   },
   "outputs": [
    {
     "data": {
      "text/plain": [
       "[<NashProfile for '': [[1.0, 0.0, 0.0], [1.0, 0.0, 0.0]]>,\n",
       " <NashProfile for '': [[0.875, 0.125, 0.0], [0.875, 0.125, 0.0]]>,\n",
       " <NashProfile for '': [[0.0, 1.0, 0.0], [0.0, 1.0, 0.0]]>,\n",
       " <NashProfile for '': [[0.0, 0.6, 0.4], [0.0, 0.6, 0.4]]>,\n",
       " <NashProfile for '': [[0.0, 0.0, 1.0], [0.0, 0.0, 1.0]]>]"
      ]
     },
     "execution_count": 12,
     "metadata": {},
     "output_type": "execute_result"
    }
   ],
   "source": [
    "# 混合戦略ナッシュ均衡算出\n",
    "p = kmr.compute_nash_equilibrium(payoff, same_payoff=True)\n",
    "p"
   ]
  },
  {
   "cell_type": "code",
   "execution_count": null,
   "metadata": {
    "collapsed": true
   },
   "outputs": [],
   "source": []
  }
 ],
 "metadata": {
  "kernelspec": {
   "display_name": "Python 2",
   "language": "python",
   "name": "python2"
  },
  "language_info": {
   "codemirror_mode": {
    "name": "ipython",
    "version": 2
   },
   "file_extension": ".py",
   "mimetype": "text/x-python",
   "name": "python",
   "nbconvert_exporter": "python",
   "pygments_lexer": "ipython2",
   "version": "2.7.10"
  }
 },
 "nbformat": 4,
 "nbformat_minor": 0
}
