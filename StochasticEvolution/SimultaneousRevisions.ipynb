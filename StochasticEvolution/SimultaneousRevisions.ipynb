{
 "cells": [
  {
   "cell_type": "markdown",
   "metadata": {},
   "source": [
    "#同時改訂(simultaneous revisions)とは\n",
    "「各 t 期において，N 人全員が行動を (変えたければ) 変えることができる．」  \n",
    "##協調ゲーム (coordination game)\n",
    "以下の利得表のもと各人は戦略をとる場合を考える。 \n",
    "\n",
    "[(4, 4), (0, 3)]  \n",
    "[(3, 0), (2, 2)]\n",
    "\n",
    "混合戦略ナッシュ均衡の組は、  \n",
    "(1, 0), (1, 0)  \n",
    "(2/3, 1/3), (2/3, 1/3)  \n",
    "(0, 1), (0, 1)\n",
    "\n",
    "全体の人数(N)が5人で、今戦略1を取っている人数が3人だとする。  \n",
    "ということは自分自身と対戦することも許すならば、3/5 > 1/3 より戦略1をとることが各人にとって望ましい。  \n",
    "\n",
    "よって、みんなで一斉に戦略を変えるチャンスが与えられるならば、  \n",
    "次の期において戦略1を5人全員が選択する確率は、\n",
    "${}_5 C _5 (1-\\frac{\\epsilon}{2})^{5} (\\frac{\\epsilon}{2})^{0}$　(つまり$(1-\\frac{\\epsilon}{2})^{5}$  )  \n",
    "4人が戦略1を選択する確率は\n",
    "${}_5 C _4 (1-\\frac{\\epsilon}{2})^{4} (\\frac{\\epsilon}{2})^{1}$  \n",
    "...  \n",
    "0人が戦略1を選択する確率は\n",
    "${}_5 C _0 (1-\\frac{\\epsilon}{2})^{0} (\\frac{\\epsilon}{2})^{5}$（つまり$(\\frac{\\epsilon}{2})^{5}$）   \n",
    "\n",
    "これより戦略１を取る人数ごとの確率分布は**二項分布**であると言える。\n",
    "\n",
    "二項分布をコードで書くときに便利な関数が、[scipy.stats.binom](http://docs.scipy.org/doc/scipy-0.15.1/reference/generated/scipy.stats.binom.html)  \n",
    "\n",
    "サイトより引用\n",
    "\n",
    "```\n",
    "Notes\n",
    "\n",
    "The probability mass function for binom is:\n",
    "\n",
    "binom.pmf(k) = choose(n, k) * p**k * (1-p)**(n-k)\n",
    "for k in {0, 1,..., n}.\n",
    "\n",
    "binom takes n and p as shape parameters.\n",
    "```\n",
    "\n",
    "つまり、binom.pmf(k, n, p)という形で使うことができ、それぞれの引数はこのように定義されている。  \n",
    "\n",
    "実際に使ってみる。"
   ]
  },
  {
   "cell_type": "code",
   "execution_count": 1,
   "metadata": {
    "collapsed": true
   },
   "outputs": [],
   "source": [
    "%matplotlib inline\n",
    "from scipy.stats import binom\n",
    "import matplotlib.pyplot as plt "
   ]
  },
  {
   "cell_type": "markdown",
   "metadata": {},
   "source": [
    "t期において戦略1を3人が取っている状況を考え、epsilonを0.1と仮定する。  \n",
    "t+1期で戦略1を取る人数が5人全員となる確率$(1-\\frac{\\epsilon}{2})^{5}$は、"
   ]
  },
  {
   "cell_type": "code",
   "execution_count": 2,
   "metadata": {
    "collapsed": false
   },
   "outputs": [
    {
     "data": {
      "text/plain": [
       "0.77378093749999977"
      ]
     },
     "execution_count": 2,
     "metadata": {},
     "output_type": "execute_result"
    }
   ],
   "source": [
    "epsilon = 0.1\n",
    "binom.pmf(5, 5, 1-epsilon/2)"
   ]
  },
  {
   "cell_type": "markdown",
   "metadata": {},
   "source": [
    "t+1期で戦略1を取る人数が4人となる確率${}_5 C _4 (1-\\frac{\\epsilon}{2})^{4} (\\frac{\\epsilon}{2})^{1}$ は、"
   ]
  },
  {
   "cell_type": "code",
   "execution_count": 3,
   "metadata": {
    "collapsed": false
   },
   "outputs": [
    {
     "data": {
      "text/plain": [
       "0.20362656250000011"
      ]
     },
     "execution_count": 3,
     "metadata": {},
     "output_type": "execute_result"
    }
   ],
   "source": [
    "binom.pmf(4, 5, 1-epsilon/2)"
   ]
  },
  {
   "cell_type": "markdown",
   "metadata": {},
   "source": [
    "t+1期で戦略1を取る人数が4人となる確率${}_5 C _3 (1-\\frac{\\epsilon}{2})^{3} (\\frac{\\epsilon}{2})^{2}$ は、"
   ]
  },
  {
   "cell_type": "code",
   "execution_count": 4,
   "metadata": {
    "collapsed": false
   },
   "outputs": [
    {
     "data": {
      "text/plain": [
       "0.021434375000000037"
      ]
     },
     "execution_count": 4,
     "metadata": {},
     "output_type": "execute_result"
    }
   ],
   "source": [
    "binom.pmf(3, 5, 1-epsilon/2)"
   ]
  },
  {
   "cell_type": "markdown",
   "metadata": {},
   "source": [
    "t+1期に戦略1を取る人数毎の確率をプロットしてみると、"
   ]
  },
  {
   "cell_type": "code",
   "execution_count": 5,
   "metadata": {
    "collapsed": false
   },
   "outputs": [
    {
     "data": {
      "text/plain": [
       "[<matplotlib.lines.Line2D at 0x1042df310>]"
      ]
     },
     "execution_count": 5,
     "metadata": {},
     "output_type": "execute_result"
    },
    {
     "data": {
      "image/png": "[encoded data removed]",
      "text/plain": [
       "<matplotlib.figure.Figure at 0x103ec56d0>"
      ]
     },
     "metadata": {},
     "output_type": "display_data"
    }
   ],
   "source": [
    "P = [binom.pmf(i, 5, 1-epsilon/2) for i in range(5+1)]\n",
    "plt.plot(range(5+1), P)"
   ]
  },
  {
   "cell_type": "markdown",
   "metadata": {},
   "source": [
    "実験を行わず合理的に戦略を選択すれば各人は戦略1を取るはずであり、グラフはt+1期に戦略1を取る人数が多いほど確率も高くなるということを示しており整合的である。  \n",
    "この結果を遷移行列にあてはめると、\n",
    "t期において戦略1を選択していた人が3人と仮定していたので、P[3]の行に上で求めた確率がそれぞれ付与されていく。"
   ]
  }
 ],
 "metadata": {
  "kernelspec": {
   "display_name": "Python 2",
   "language": "python",
   "name": "python2"
  },
  "language_info": {
   "codemirror_mode": {
    "name": "ipython",
    "version": 2
   },
   "file_extension": ".py",
   "mimetype": "text/x-python",
   "name": "python",
   "nbconvert_exporter": "python",
   "pygments_lexer": "ipython2",
   "version": "2.7.10"
  }
 },
 "nbformat": 4,
 "nbformat_minor": 0
}
